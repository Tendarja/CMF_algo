{
 "cells": [
  {
   "cell_type": "code",
   "execution_count": 1,
   "id": "14533f2c",
   "metadata": {},
   "outputs": [],
   "source": [
    "import pandas as pd\n",
    "import numpy as np\n",
    "import statsmodels as sm\n",
    "import random"
   ]
  },
  {
   "cell_type": "markdown",
   "id": "c8781f35",
   "metadata": {},
   "source": [
    "# Подготовка данных"
   ]
  },
  {
   "cell_type": "code",
   "execution_count": 2,
   "id": "2ca5fde6",
   "metadata": {},
   "outputs": [],
   "source": [
    "df = pd.read_csv('AAPL.csv') #данные по AAPL за 2020 год (из папки 2021)"
   ]
  },
  {
   "cell_type": "code",
   "execution_count": 3,
   "id": "18c7d31f",
   "metadata": {},
   "outputs": [],
   "source": [
    "close = df['close']"
   ]
  },
  {
   "cell_type": "code",
   "execution_count": 4,
   "id": "20ddf1d2",
   "metadata": {},
   "outputs": [],
   "source": [
    "df['l_close'] = np.log(close)"
   ]
  },
  {
   "cell_type": "code",
   "execution_count": 5,
   "id": "e4884e1e",
   "metadata": {},
   "outputs": [
    {
     "name": "stderr",
     "output_type": "stream",
     "text": [
      "C:\\Users\\dasha\\AppData\\Local\\Temp/ipykernel_2440/2266615516.py:3: SettingWithCopyWarning: \n",
      "A value is trying to be set on a copy of a slice from a DataFrame\n",
      "\n",
      "See the caveats in the documentation: https://pandas.pydata.org/pandas-docs/stable/user_guide/indexing.html#returning-a-view-versus-a-copy\n",
      "  df['d_l_close'][i+1] = df['l_close'][i+1] - df['l_close'][i]\n"
     ]
    }
   ],
   "source": [
    "df['d_l_close'] = np.zeros(101676)\n",
    "for i in range(0,101675):\n",
    "    df['d_l_close'][i+1] = df['l_close'][i+1] - df['l_close'][i]"
   ]
  },
  {
   "cell_type": "markdown",
   "id": "9a74d9c1",
   "metadata": {},
   "source": [
    "# ARIMA"
   ]
  },
  {
   "cell_type": "markdown",
   "id": "8dfb855e",
   "metadata": {},
   "source": [
    "Параметры подбирались с помощью обучения на всем 2020 году в R через auto.arima и критерий Шварца, после чего в цикле для предсказания цен на 10 дней она каждый раз переподбирала их, но в Python обучить ее таким образом не удалось - не хватило памяти даже для одного обучения на всем датафрейме, поэтому пришлось обрезать датасет и взять изначальные параметры из первой модели в R - эту проблему еще предстоит решить. \\\n",
    "\\\n",
    "Пути решения: \n",
    "1. Найти autoarima в python для подбора параметров, либо сделать цикл для подбора\n",
    "2. Чтобы считать на больших датасетах, проходиться по всему датасету, но учить модель на небольшом окне"
   ]
  },
  {
   "cell_type": "markdown",
   "id": "fa2350c2",
   "metadata": {},
   "source": [
    "https://www.projectpro.io/article/how-to-build-arima-model-in-python/544"
   ]
  },
  {
   "cell_type": "code",
   "execution_count": 6,
   "id": "a4d3cc57",
   "metadata": {},
   "outputs": [],
   "source": [
    "from statsmodels.tsa.arima_model import ARIMA"
   ]
  },
  {
   "cell_type": "code",
   "execution_count": 7,
   "id": "5d6a9902",
   "metadata": {},
   "outputs": [],
   "source": [
    "df_short = df[101000:101676]"
   ]
  },
  {
   "cell_type": "code",
   "execution_count": 8,
   "id": "202c1ad3",
   "metadata": {},
   "outputs": [
    {
     "data": {
      "text/html": [
       "<div>\n",
       "<style scoped>\n",
       "    .dataframe tbody tr th:only-of-type {\n",
       "        vertical-align: middle;\n",
       "    }\n",
       "\n",
       "    .dataframe tbody tr th {\n",
       "        vertical-align: top;\n",
       "    }\n",
       "\n",
       "    .dataframe thead th {\n",
       "        text-align: right;\n",
       "    }\n",
       "</style>\n",
       "<table border=\"1\" class=\"dataframe\">\n",
       "  <thead>\n",
       "    <tr style=\"text-align: right;\">\n",
       "      <th></th>\n",
       "      <th>date</th>\n",
       "      <th>open</th>\n",
       "      <th>high</th>\n",
       "      <th>low</th>\n",
       "      <th>close</th>\n",
       "      <th>volume</th>\n",
       "      <th>vwap</th>\n",
       "      <th>timestamp</th>\n",
       "      <th>transactions</th>\n",
       "      <th>otc</th>\n",
       "      <th>l_close</th>\n",
       "      <th>d_l_close</th>\n",
       "    </tr>\n",
       "  </thead>\n",
       "  <tbody>\n",
       "    <tr>\n",
       "      <th>101000</th>\n",
       "      <td>2020-12-30 11:16:00-05:00</td>\n",
       "      <td>134.5005</td>\n",
       "      <td>134.730</td>\n",
       "      <td>134.5000</td>\n",
       "      <td>134.7200</td>\n",
       "      <td>409048.0</td>\n",
       "      <td>134.6400</td>\n",
       "      <td>1609344960000</td>\n",
       "      <td>2691</td>\n",
       "      <td>NaN</td>\n",
       "      <td>4.903199</td>\n",
       "      <td>0.001565</td>\n",
       "    </tr>\n",
       "    <tr>\n",
       "      <th>101001</th>\n",
       "      <td>2020-12-30 11:17:00-05:00</td>\n",
       "      <td>134.7300</td>\n",
       "      <td>134.765</td>\n",
       "      <td>134.6701</td>\n",
       "      <td>134.7200</td>\n",
       "      <td>265185.0</td>\n",
       "      <td>134.7204</td>\n",
       "      <td>1609345020000</td>\n",
       "      <td>1692</td>\n",
       "      <td>NaN</td>\n",
       "      <td>4.903199</td>\n",
       "      <td>0.000000</td>\n",
       "    </tr>\n",
       "    <tr>\n",
       "      <th>101002</th>\n",
       "      <td>2020-12-30 11:18:00-05:00</td>\n",
       "      <td>134.7146</td>\n",
       "      <td>134.750</td>\n",
       "      <td>134.6200</td>\n",
       "      <td>134.6400</td>\n",
       "      <td>242928.0</td>\n",
       "      <td>134.6897</td>\n",
       "      <td>1609345080000</td>\n",
       "      <td>1495</td>\n",
       "      <td>NaN</td>\n",
       "      <td>4.902605</td>\n",
       "      <td>-0.000594</td>\n",
       "    </tr>\n",
       "    <tr>\n",
       "      <th>101003</th>\n",
       "      <td>2020-12-30 11:19:00-05:00</td>\n",
       "      <td>134.6493</td>\n",
       "      <td>134.750</td>\n",
       "      <td>134.6000</td>\n",
       "      <td>134.6940</td>\n",
       "      <td>193919.0</td>\n",
       "      <td>134.6859</td>\n",
       "      <td>1609345140000</td>\n",
       "      <td>1423</td>\n",
       "      <td>NaN</td>\n",
       "      <td>4.903006</td>\n",
       "      <td>0.000401</td>\n",
       "    </tr>\n",
       "    <tr>\n",
       "      <th>101004</th>\n",
       "      <td>2020-12-30 11:20:00-05:00</td>\n",
       "      <td>134.6800</td>\n",
       "      <td>134.710</td>\n",
       "      <td>134.6000</td>\n",
       "      <td>134.6585</td>\n",
       "      <td>162046.0</td>\n",
       "      <td>134.6541</td>\n",
       "      <td>1609345200000</td>\n",
       "      <td>1096</td>\n",
       "      <td>NaN</td>\n",
       "      <td>4.902742</td>\n",
       "      <td>-0.000264</td>\n",
       "    </tr>\n",
       "    <tr>\n",
       "      <th>...</th>\n",
       "      <td>...</td>\n",
       "      <td>...</td>\n",
       "      <td>...</td>\n",
       "      <td>...</td>\n",
       "      <td>...</td>\n",
       "      <td>...</td>\n",
       "      <td>...</td>\n",
       "      <td>...</td>\n",
       "      <td>...</td>\n",
       "      <td>...</td>\n",
       "      <td>...</td>\n",
       "      <td>...</td>\n",
       "    </tr>\n",
       "    <tr>\n",
       "      <th>101671</th>\n",
       "      <td>2020-12-31 15:56:00-05:00</td>\n",
       "      <td>132.6500</td>\n",
       "      <td>132.820</td>\n",
       "      <td>132.6500</td>\n",
       "      <td>132.7693</td>\n",
       "      <td>513816.0</td>\n",
       "      <td>132.7459</td>\n",
       "      <td>1609448160000</td>\n",
       "      <td>3191</td>\n",
       "      <td>NaN</td>\n",
       "      <td>4.888613</td>\n",
       "      <td>0.000974</td>\n",
       "    </tr>\n",
       "    <tr>\n",
       "      <th>101672</th>\n",
       "      <td>2020-12-31 15:57:00-05:00</td>\n",
       "      <td>132.7700</td>\n",
       "      <td>132.920</td>\n",
       "      <td>132.7600</td>\n",
       "      <td>132.8408</td>\n",
       "      <td>505929.0</td>\n",
       "      <td>132.8310</td>\n",
       "      <td>1609448220000</td>\n",
       "      <td>3527</td>\n",
       "      <td>NaN</td>\n",
       "      <td>4.889151</td>\n",
       "      <td>0.000538</td>\n",
       "    </tr>\n",
       "    <tr>\n",
       "      <th>101673</th>\n",
       "      <td>2020-12-31 15:58:00-05:00</td>\n",
       "      <td>132.8400</td>\n",
       "      <td>132.920</td>\n",
       "      <td>132.8300</td>\n",
       "      <td>132.8600</td>\n",
       "      <td>517398.0</td>\n",
       "      <td>132.8745</td>\n",
       "      <td>1609448280000</td>\n",
       "      <td>3472</td>\n",
       "      <td>NaN</td>\n",
       "      <td>4.889296</td>\n",
       "      <td>0.000145</td>\n",
       "    </tr>\n",
       "    <tr>\n",
       "      <th>101674</th>\n",
       "      <td>2020-12-31 15:59:00-05:00</td>\n",
       "      <td>132.8650</td>\n",
       "      <td>133.000</td>\n",
       "      <td>132.5500</td>\n",
       "      <td>132.5800</td>\n",
       "      <td>1698250.0</td>\n",
       "      <td>132.8086</td>\n",
       "      <td>1609448340000</td>\n",
       "      <td>8187</td>\n",
       "      <td>NaN</td>\n",
       "      <td>4.887186</td>\n",
       "      <td>-0.002110</td>\n",
       "    </tr>\n",
       "    <tr>\n",
       "      <th>101675</th>\n",
       "      <td>2020-12-31 16:00:00-05:00</td>\n",
       "      <td>132.6900</td>\n",
       "      <td>132.890</td>\n",
       "      <td>132.6500</td>\n",
       "      <td>132.8000</td>\n",
       "      <td>377376.0</td>\n",
       "      <td>132.6997</td>\n",
       "      <td>1609448400000</td>\n",
       "      <td>174</td>\n",
       "      <td>NaN</td>\n",
       "      <td>4.888844</td>\n",
       "      <td>0.001658</td>\n",
       "    </tr>\n",
       "  </tbody>\n",
       "</table>\n",
       "<p>676 rows × 12 columns</p>\n",
       "</div>"
      ],
      "text/plain": [
       "                             date      open     high       low     close  \\\n",
       "101000  2020-12-30 11:16:00-05:00  134.5005  134.730  134.5000  134.7200   \n",
       "101001  2020-12-30 11:17:00-05:00  134.7300  134.765  134.6701  134.7200   \n",
       "101002  2020-12-30 11:18:00-05:00  134.7146  134.750  134.6200  134.6400   \n",
       "101003  2020-12-30 11:19:00-05:00  134.6493  134.750  134.6000  134.6940   \n",
       "101004  2020-12-30 11:20:00-05:00  134.6800  134.710  134.6000  134.6585   \n",
       "...                           ...       ...      ...       ...       ...   \n",
       "101671  2020-12-31 15:56:00-05:00  132.6500  132.820  132.6500  132.7693   \n",
       "101672  2020-12-31 15:57:00-05:00  132.7700  132.920  132.7600  132.8408   \n",
       "101673  2020-12-31 15:58:00-05:00  132.8400  132.920  132.8300  132.8600   \n",
       "101674  2020-12-31 15:59:00-05:00  132.8650  133.000  132.5500  132.5800   \n",
       "101675  2020-12-31 16:00:00-05:00  132.6900  132.890  132.6500  132.8000   \n",
       "\n",
       "           volume      vwap      timestamp  transactions  otc   l_close  \\\n",
       "101000   409048.0  134.6400  1609344960000          2691  NaN  4.903199   \n",
       "101001   265185.0  134.7204  1609345020000          1692  NaN  4.903199   \n",
       "101002   242928.0  134.6897  1609345080000          1495  NaN  4.902605   \n",
       "101003   193919.0  134.6859  1609345140000          1423  NaN  4.903006   \n",
       "101004   162046.0  134.6541  1609345200000          1096  NaN  4.902742   \n",
       "...           ...       ...            ...           ...  ...       ...   \n",
       "101671   513816.0  132.7459  1609448160000          3191  NaN  4.888613   \n",
       "101672   505929.0  132.8310  1609448220000          3527  NaN  4.889151   \n",
       "101673   517398.0  132.8745  1609448280000          3472  NaN  4.889296   \n",
       "101674  1698250.0  132.8086  1609448340000          8187  NaN  4.887186   \n",
       "101675   377376.0  132.6997  1609448400000           174  NaN  4.888844   \n",
       "\n",
       "        d_l_close  \n",
       "101000   0.001565  \n",
       "101001   0.000000  \n",
       "101002  -0.000594  \n",
       "101003   0.000401  \n",
       "101004  -0.000264  \n",
       "...           ...  \n",
       "101671   0.000974  \n",
       "101672   0.000538  \n",
       "101673   0.000145  \n",
       "101674  -0.002110  \n",
       "101675   0.001658  \n",
       "\n",
       "[676 rows x 12 columns]"
      ]
     },
     "execution_count": 8,
     "metadata": {},
     "output_type": "execute_result"
    }
   ],
   "source": [
    "df_short"
   ]
  },
  {
   "cell_type": "code",
   "execution_count": 9,
   "id": "329e6a1c",
   "metadata": {},
   "outputs": [
    {
     "name": "stderr",
     "output_type": "stream",
     "text": [
      "C:\\Users\\dasha\\anaconda3\\lib\\site-packages\\statsmodels\\tsa\\arima_model.py:472: FutureWarning: \n",
      "statsmodels.tsa.arima_model.ARMA and statsmodels.tsa.arima_model.ARIMA have\n",
      "been deprecated in favor of statsmodels.tsa.arima.model.ARIMA (note the .\n",
      "between arima and model) and\n",
      "statsmodels.tsa.SARIMAX. These will be removed after the 0.12 release.\n",
      "\n",
      "statsmodels.tsa.arima.model.ARIMA makes use of the statespace framework and\n",
      "is both well tested and maintained.\n",
      "\n",
      "To silence this warning and continue using ARMA and ARIMA until they are\n",
      "removed, use:\n",
      "\n",
      "import warnings\n",
      "warnings.filterwarnings('ignore', 'statsmodels.tsa.arima_model.ARMA',\n",
      "                        FutureWarning)\n",
      "warnings.filterwarnings('ignore', 'statsmodels.tsa.arima_model.ARIMA',\n",
      "                        FutureWarning)\n",
      "\n",
      "  warnings.warn(ARIMA_DEPRECATION_WARN, FutureWarning)\n",
      "C:\\Users\\dasha\\anaconda3\\lib\\site-packages\\statsmodels\\base\\model.py:547: HessianInversionWarning: Inverting hessian failed, no bse or cov_params available\n",
      "  warnings.warn('Inverting hessian failed, no bse or cov_params '\n",
      "C:\\Users\\dasha\\anaconda3\\lib\\site-packages\\statsmodels\\base\\model.py:547: HessianInversionWarning: Inverting hessian failed, no bse or cov_params available\n",
      "  warnings.warn('Inverting hessian failed, no bse or cov_params '\n"
     ]
    }
   ],
   "source": [
    "random.seed(42)\n",
    "j = 0\n",
    "forecasts = []\n",
    "for i in range(666, 676):\n",
    "    arima_model = ARIMA(df_short['l_close'][0:i], order = (2,1,2))\n",
    "    model = arima_model.fit()\n",
    "    forecasts.append(float(model.forecast(1)[0]))"
   ]
  },
  {
   "cell_type": "code",
   "execution_count": 10,
   "id": "3536519c",
   "metadata": {},
   "outputs": [],
   "source": [
    "fact = df_short['l_close'][666:676]"
   ]
  },
  {
   "cell_type": "code",
   "execution_count": 11,
   "id": "53826bca",
   "metadata": {},
   "outputs": [],
   "source": [
    "fact = fact.to_list()"
   ]
  },
  {
   "cell_type": "code",
   "execution_count": 12,
   "id": "8a234b53",
   "metadata": {},
   "outputs": [],
   "source": [
    "fact_vs_fcst = pd.DataFrame(columns=(['fct','fcst']))"
   ]
  },
  {
   "cell_type": "code",
   "execution_count": 13,
   "id": "5a95efab",
   "metadata": {},
   "outputs": [],
   "source": [
    "fact_vs_fcst['fct'] = np.exp(fact)"
   ]
  },
  {
   "cell_type": "code",
   "execution_count": 14,
   "id": "5c1ec8a4",
   "metadata": {},
   "outputs": [],
   "source": [
    "fact_vs_fcst['fcst'] = np.exp(forecasts)"
   ]
  },
  {
   "cell_type": "code",
   "execution_count": 15,
   "id": "8eb53b8a",
   "metadata": {},
   "outputs": [
    {
     "data": {
      "text/html": [
       "<div>\n",
       "<style scoped>\n",
       "    .dataframe tbody tr th:only-of-type {\n",
       "        vertical-align: middle;\n",
       "    }\n",
       "\n",
       "    .dataframe tbody tr th {\n",
       "        vertical-align: top;\n",
       "    }\n",
       "\n",
       "    .dataframe thead th {\n",
       "        text-align: right;\n",
       "    }\n",
       "</style>\n",
       "<table border=\"1\" class=\"dataframe\">\n",
       "  <thead>\n",
       "    <tr style=\"text-align: right;\">\n",
       "      <th></th>\n",
       "      <th>fct</th>\n",
       "      <th>fcst</th>\n",
       "    </tr>\n",
       "  </thead>\n",
       "  <tbody>\n",
       "    <tr>\n",
       "      <th>0</th>\n",
       "      <td>132.9900</td>\n",
       "      <td>133.144830</td>\n",
       "    </tr>\n",
       "    <tr>\n",
       "      <th>1</th>\n",
       "      <td>133.1750</td>\n",
       "      <td>132.961279</td>\n",
       "    </tr>\n",
       "    <tr>\n",
       "      <th>2</th>\n",
       "      <td>133.1800</td>\n",
       "      <td>133.150537</td>\n",
       "    </tr>\n",
       "    <tr>\n",
       "      <th>3</th>\n",
       "      <td>132.5900</td>\n",
       "      <td>133.163084</td>\n",
       "    </tr>\n",
       "    <tr>\n",
       "      <th>4</th>\n",
       "      <td>132.6400</td>\n",
       "      <td>132.615447</td>\n",
       "    </tr>\n",
       "    <tr>\n",
       "      <th>5</th>\n",
       "      <td>132.7693</td>\n",
       "      <td>132.665713</td>\n",
       "    </tr>\n",
       "    <tr>\n",
       "      <th>6</th>\n",
       "      <td>132.8408</td>\n",
       "      <td>132.768785</td>\n",
       "    </tr>\n",
       "    <tr>\n",
       "      <th>7</th>\n",
       "      <td>132.8600</td>\n",
       "      <td>132.837252</td>\n",
       "    </tr>\n",
       "    <tr>\n",
       "      <th>8</th>\n",
       "      <td>132.5800</td>\n",
       "      <td>132.849662</td>\n",
       "    </tr>\n",
       "    <tr>\n",
       "      <th>9</th>\n",
       "      <td>132.8000</td>\n",
       "      <td>132.592372</td>\n",
       "    </tr>\n",
       "  </tbody>\n",
       "</table>\n",
       "</div>"
      ],
      "text/plain": [
       "        fct        fcst\n",
       "0  132.9900  133.144830\n",
       "1  133.1750  132.961279\n",
       "2  133.1800  133.150537\n",
       "3  132.5900  133.163084\n",
       "4  132.6400  132.615447\n",
       "5  132.7693  132.665713\n",
       "6  132.8408  132.768785\n",
       "7  132.8600  132.837252\n",
       "8  132.5800  132.849662\n",
       "9  132.8000  132.592372"
      ]
     },
     "execution_count": 15,
     "metadata": {},
     "output_type": "execute_result"
    }
   ],
   "source": [
    "fact_vs_fcst"
   ]
  },
  {
   "attachments": {
    "image.png": {
     "image/png": "[encoded data removed]"
    }
   },
   "cell_type": "markdown",
   "id": "9411a1c0",
   "metadata": {},
   "source": [
    "Для этих же значений в R с автоподбором параметров на каждой итерации для всей выборки я получила такую таблицу:\n",
    "![image.png](attachment:image.png)"
   ]
  },
  {
   "cell_type": "code",
   "execution_count": 16,
   "id": "8833bd35",
   "metadata": {},
   "outputs": [
    {
     "data": {
      "text/plain": [
       "0.0012588559533750741"
      ]
     },
     "execution_count": 16,
     "metadata": {},
     "output_type": "execute_result"
    }
   ],
   "source": [
    "from sklearn.metrics import mean_absolute_percentage_error\n",
    "mean_absolute_percentage_error(np.exp(fact), np.exp(forecasts))"
   ]
  },
  {
   "cell_type": "code",
   "execution_count": 17,
   "id": "45164a26",
   "metadata": {},
   "outputs": [
    {
     "data": {
      "text/plain": [
       "-0.24439459905813488"
      ]
     },
     "execution_count": 17,
     "metadata": {},
     "output_type": "execute_result"
    }
   ],
   "source": [
    "from sklearn.metrics import r2_score\n",
    "r2_score(np.exp(fact), np.exp(forecasts)) #очевидно, что расчет R^2 в чистом виде не совсем подходит для этой модели"
   ]
  },
  {
   "cell_type": "code",
   "execution_count": 18,
   "id": "3f7da92d",
   "metadata": {},
   "outputs": [
    {
     "data": {
      "text/plain": [
       "SpearmanrResult(correlation=0.2727272727272727, pvalue=0.44583834154275137)"
      ]
     },
     "execution_count": 18,
     "metadata": {},
     "output_type": "execute_result"
    }
   ],
   "source": [
    "from scipy import stats\n",
    "stats.spearmanr(np.exp(fact), np.exp(forecasts))"
   ]
  },
  {
   "cell_type": "markdown",
   "id": "658a275b",
   "metadata": {},
   "source": [
    "# ARMA&GARCH "
   ]
  },
  {
   "cell_type": "markdown",
   "id": "2c423167",
   "metadata": {},
   "source": [
    "Параметры для ARMA взяты такие же, как для ARIMA, параметры для GARCH выбраны рандомно."
   ]
  },
  {
   "cell_type": "markdown",
   "id": "591ad40a",
   "metadata": {},
   "source": [
    "https://github.com/iankhr/armagarch"
   ]
  },
  {
   "cell_type": "code",
   "execution_count": 19,
   "id": "8c4fd75b",
   "metadata": {},
   "outputs": [],
   "source": [
    "#!pip install armagarch"
   ]
  },
  {
   "cell_type": "code",
   "execution_count": 20,
   "id": "959b339b",
   "metadata": {},
   "outputs": [],
   "source": [
    "import armagarch as ag"
   ]
  },
  {
   "cell_type": "code",
   "execution_count": 21,
   "id": "250fd32a",
   "metadata": {},
   "outputs": [],
   "source": [
    "meanMdl = ag.ARMA(order = {'AR':2,'MA':2})\n",
    "volMdl = ag.garch(order = {'p':1,'q':1})\n",
    "distMdl = ag.normalDist()"
   ]
  },
  {
   "cell_type": "code",
   "execution_count": 22,
   "id": "aee5e35c",
   "metadata": {},
   "outputs": [
    {
     "name": "stderr",
     "output_type": "stream",
     "text": [
      "C:\\Users\\dasha\\anaconda3\\lib\\site-packages\\statsmodels\\tsa\\arima_model.py:472: FutureWarning: \n",
      "statsmodels.tsa.arima_model.ARMA and statsmodels.tsa.arima_model.ARIMA have\n",
      "been deprecated in favor of statsmodels.tsa.arima.model.ARIMA (note the .\n",
      "between arima and model) and\n",
      "statsmodels.tsa.SARIMAX. These will be removed after the 0.12 release.\n",
      "\n",
      "statsmodels.tsa.arima.model.ARIMA makes use of the statespace framework and\n",
      "is both well tested and maintained.\n",
      "\n",
      "To silence this warning and continue using ARMA and ARIMA until they are\n",
      "removed, use:\n",
      "\n",
      "import warnings\n",
      "warnings.filterwarnings('ignore', 'statsmodels.tsa.arima_model.ARMA',\n",
      "                        FutureWarning)\n",
      "warnings.filterwarnings('ignore', 'statsmodels.tsa.arima_model.ARIMA',\n",
      "                        FutureWarning)\n",
      "\n",
      "  warnings.warn(ARIMA_DEPRECATION_WARN, FutureWarning)\n",
      "C:\\Users\\dasha\\anaconda3\\lib\\site-packages\\statsmodels\\base\\model.py:547: HessianInversionWarning: Inverting hessian failed, no bse or cov_params available\n",
      "  warnings.warn('Inverting hessian failed, no bse or cov_params '\n",
      "C:\\Users\\dasha\\anaconda3\\lib\\site-packages\\statsmodels\\base\\model.py:547: HessianInversionWarning: Inverting hessian failed, no bse or cov_params available\n",
      "  warnings.warn('Inverting hessian failed, no bse or cov_params '\n"
     ]
    },
    {
     "name": "stdout",
     "output_type": "stream",
     "text": [
      "                                             ARMA-GARCH estimation results                                              \n",
      "========================================================================================================================\n",
      "Dep Variable:                                   d_l_close    R-squared:                                            0.0\n",
      "Mean Model:                                          ARMA    Adj. R-squared:                                     -0.01\n",
      "Vol Model:                                          GARCH    Log Likelihood:                                   3551.09\n",
      "Distribution:                                    Gaussian    AIC:                                             -7086.18\n",
      "Method:                                                ML    BIC:                                             -7050.19\n",
      "                                                             Num obs:                                              665\n",
      "Date:                                    Sat, Oct 08 2022    Df Residuals:                                         658\n",
      "Time:                                            19:44:52    Df Model:                                               7\n",
      "                                                                                                                        \n",
      "                                                       Mean Model                                                       \n",
      "========================================================================================================================\n",
      "                                                Estimate                    Std. Error                        t-stat\n",
      "------------------------------------------------------------------------------------------------------------------------\n",
      "Constant                                            -0.0                           0.0                        -0.979\n",
      "AR[1]                                             -0.011                         0.067                        -0.159\n",
      "AR[2]                                             -0.031                         0.412                        -0.075\n",
      "MA[3]                                             -0.011                         0.026                        -0.407\n",
      "MA[4]                                             -0.031                         0.438                         -0.07\n",
      "                                                                                                                        \n",
      "                                                    Volatility Model                                                    \n",
      "========================================================================================================================\n",
      "                                                Estimate                    Std. Error                        t-stat\n",
      "------------------------------------------------------------------------------------------------------------------------\n",
      "omega                                                0.0                           0.0                        13.379\n",
      "alpha                                                0.1                         0.162                         0.617\n",
      "beta                                                 0.8                         0.008                        97.667\n",
      "========================================================================================================================\n",
      "Covariance estimator: robust\n",
      "Warning! Inequality constraints incompatible\n"
     ]
    },
    {
     "name": "stderr",
     "output_type": "stream",
     "text": [
      "C:\\Users\\dasha\\anaconda3\\lib\\site-packages\\statsmodels\\base\\model.py:547: HessianInversionWarning: Inverting hessian failed, no bse or cov_params available\n",
      "  warnings.warn('Inverting hessian failed, no bse or cov_params '\n",
      "C:\\Users\\dasha\\anaconda3\\lib\\site-packages\\statsmodels\\base\\model.py:547: HessianInversionWarning: Inverting hessian failed, no bse or cov_params available\n",
      "  warnings.warn('Inverting hessian failed, no bse or cov_params '\n"
     ]
    },
    {
     "name": "stdout",
     "output_type": "stream",
     "text": [
      "                                             ARMA-GARCH estimation results                                              \n",
      "========================================================================================================================\n",
      "Dep Variable:                                   d_l_close    R-squared:                                            0.0\n",
      "Mean Model:                                          ARMA    Adj. R-squared:                                     -0.01\n",
      "Vol Model:                                          GARCH    Log Likelihood:                                   3531.31\n",
      "Distribution:                                    Gaussian    AIC:                                             -7046.62\n",
      "Method:                                                ML    BIC:                                             -7010.61\n",
      "                                                             Num obs:                                              666\n",
      "Date:                                    Sat, Oct 08 2022    Df Residuals:                                         659\n",
      "Time:                                            19:44:53    Df Model:                                               7\n",
      "                                                                                                                        \n",
      "                                                       Mean Model                                                       \n",
      "========================================================================================================================\n",
      "                                                Estimate                    Std. Error                        t-stat\n",
      "------------------------------------------------------------------------------------------------------------------------\n",
      "Constant                                            -0.0                           0.0                         -0.73\n",
      "AR[1]                                             -0.017                          0.04                        -0.427\n",
      "AR[2]                                             -0.029                         0.044                        -0.653\n",
      "MA[3]                                             -0.017                          0.03                        -0.569\n",
      "MA[4]                                             -0.029                         0.083                        -0.344\n",
      "                                                                                                                        \n",
      "                                                    Volatility Model                                                    \n",
      "========================================================================================================================\n",
      "                                                Estimate                    Std. Error                        t-stat\n",
      "------------------------------------------------------------------------------------------------------------------------\n",
      "omega                                                0.0                           0.0                        14.017\n",
      "alpha                                                0.1                         0.158                         0.634\n",
      "beta                                                 0.8                         0.008                        96.906\n",
      "========================================================================================================================\n",
      "Covariance estimator: robust\n",
      "Warning! Inequality constraints incompatible\n"
     ]
    },
    {
     "name": "stderr",
     "output_type": "stream",
     "text": [
      "C:\\Users\\dasha\\anaconda3\\lib\\site-packages\\statsmodels\\base\\model.py:547: HessianInversionWarning: Inverting hessian failed, no bse or cov_params available\n",
      "  warnings.warn('Inverting hessian failed, no bse or cov_params '\n",
      "C:\\Users\\dasha\\anaconda3\\lib\\site-packages\\statsmodels\\base\\model.py:547: HessianInversionWarning: Inverting hessian failed, no bse or cov_params available\n",
      "  warnings.warn('Inverting hessian failed, no bse or cov_params '\n"
     ]
    },
    {
     "name": "stdout",
     "output_type": "stream",
     "text": [
      "                                             ARMA-GARCH estimation results                                              \n",
      "========================================================================================================================\n",
      "Dep Variable:                                   d_l_close    R-squared:                                           0.01\n",
      "Mean Model:                                          ARMA    Adj. R-squared:                                      -0.0\n",
      "Vol Model:                                          GARCH    Log Likelihood:                                   3534.58\n",
      "Distribution:                                    Gaussian    AIC:                                             -7053.15\n",
      "Method:                                                ML    BIC:                                             -7017.13\n",
      "                                                             Num obs:                                              667\n",
      "Date:                                    Sat, Oct 08 2022    Df Residuals:                                         660\n",
      "Time:                                            19:44:55    Df Model:                                               7\n",
      "                                                                                                                        \n",
      "                                                       Mean Model                                                       \n",
      "========================================================================================================================\n",
      "                                                Estimate                    Std. Error                        t-stat\n",
      "------------------------------------------------------------------------------------------------------------------------\n",
      "Constant                                            -0.0                           0.0                        -0.822\n",
      "AR[1]                                             -0.028                         0.309                        -0.091\n",
      "AR[2]                                             -0.027                         0.047                        -0.584\n",
      "MA[3]                                             -0.028                         0.318                        -0.088\n",
      "MA[4]                                             -0.027                         0.084                        -0.327\n",
      "                                                                                                                        \n",
      "                                                    Volatility Model                                                    \n",
      "========================================================================================================================\n",
      "                                                Estimate                    Std. Error                        t-stat\n",
      "------------------------------------------------------------------------------------------------------------------------\n",
      "omega                                                0.0                           0.0                        14.984\n",
      "alpha                                                0.1                         0.141                         0.708\n",
      "beta                                                 0.8                         0.008                        97.432\n",
      "========================================================================================================================\n",
      "Covariance estimator: robust\n",
      "Warning! Inequality constraints incompatible\n"
     ]
    },
    {
     "name": "stderr",
     "output_type": "stream",
     "text": [
      "C:\\Users\\dasha\\anaconda3\\lib\\site-packages\\statsmodels\\base\\model.py:547: HessianInversionWarning: Inverting hessian failed, no bse or cov_params available\n",
      "  warnings.warn('Inverting hessian failed, no bse or cov_params '\n",
      "C:\\Users\\dasha\\anaconda3\\lib\\site-packages\\statsmodels\\base\\model.py:547: HessianInversionWarning: Inverting hessian failed, no bse or cov_params available\n",
      "  warnings.warn('Inverting hessian failed, no bse or cov_params '\n"
     ]
    },
    {
     "name": "stdout",
     "output_type": "stream",
     "text": [
      "                                             ARMA-GARCH estimation results                                              \n",
      "========================================================================================================================\n",
      "Dep Variable:                                   d_l_close    R-squared:                                            0.0\n",
      "Mean Model:                                          ARMA    Adj. R-squared:                                     -0.01\n",
      "Vol Model:                                          GARCH    Log Likelihood:                                   3537.47\n",
      "Distribution:                                    Gaussian    AIC:                                             -7058.94\n",
      "Method:                                                ML    BIC:                                              -7022.9\n",
      "                                                             Num obs:                                              668\n",
      "Date:                                    Sat, Oct 08 2022    Df Residuals:                                         661\n",
      "Time:                                            19:44:56    Df Model:                                               7\n",
      "                                                                                                                        \n",
      "                                                       Mean Model                                                       \n",
      "========================================================================================================================\n",
      "                                                Estimate                    Std. Error                        t-stat\n",
      "------------------------------------------------------------------------------------------------------------------------\n",
      "Constant                                            -0.0                           0.0                        -0.639\n",
      "AR[1]                                             -0.032                         0.101                        -0.313\n",
      "AR[2]                                             -0.013                         0.152                        -0.087\n",
      "MA[3]                                             -0.032                         0.086                        -0.371\n",
      "MA[4]                                             -0.013                         0.085                        -0.156\n",
      "                                                                                                                        \n",
      "                                                    Volatility Model                                                    \n",
      "========================================================================================================================\n",
      "                                                Estimate                    Std. Error                        t-stat\n",
      "------------------------------------------------------------------------------------------------------------------------\n",
      "omega                                                0.0                           0.0                        15.331\n",
      "alpha                                                0.1                         0.136                         0.733\n",
      "beta                                                 0.8                         0.008                        97.576\n",
      "========================================================================================================================\n",
      "Covariance estimator: robust\n",
      "Warning! Inequality constraints incompatible\n"
     ]
    },
    {
     "name": "stderr",
     "output_type": "stream",
     "text": [
      "C:\\Users\\dasha\\anaconda3\\lib\\site-packages\\statsmodels\\base\\model.py:547: HessianInversionWarning: Inverting hessian failed, no bse or cov_params available\n",
      "  warnings.warn('Inverting hessian failed, no bse or cov_params '\n",
      "C:\\Users\\dasha\\anaconda3\\lib\\site-packages\\statsmodels\\base\\model.py:547: HessianInversionWarning: Inverting hessian failed, no bse or cov_params available\n",
      "  warnings.warn('Inverting hessian failed, no bse or cov_params '\n"
     ]
    },
    {
     "name": "stdout",
     "output_type": "stream",
     "text": [
      "                                             ARMA-GARCH estimation results                                              \n",
      "========================================================================================================================\n",
      "Dep Variable:                                   d_l_close    R-squared:                                            0.0\n",
      "Mean Model:                                          ARMA    Adj. R-squared:                                     -0.01\n",
      "Vol Model:                                          GARCH    Log Likelihood:                                   3543.08\n",
      "Distribution:                                    Gaussian    AIC:                                             -7070.17\n",
      "Method:                                                ML    BIC:                                             -7034.12\n",
      "                                                             Num obs:                                              669\n",
      "Date:                                    Sat, Oct 08 2022    Df Residuals:                                         662\n",
      "Time:                                            19:44:57    Df Model:                                               7\n",
      "                                                                                                                        \n",
      "                                                       Mean Model                                                       \n",
      "========================================================================================================================\n",
      "                                                Estimate                    Std. Error                        t-stat\n",
      "------------------------------------------------------------------------------------------------------------------------\n",
      "Constant                                            -0.0                           0.0                         -0.73\n",
      "AR[1]                                             -0.031                         0.049                        -0.646\n",
      "AR[2]                                             -0.013                         0.026                        -0.515\n",
      "MA[3]                                             -0.031                         0.072                        -0.438\n",
      "MA[4]                                             -0.013                         0.017                        -0.815\n",
      "                                                                                                                        \n",
      "                                                    Volatility Model                                                    \n",
      "========================================================================================================================\n",
      "                                                Estimate                    Std. Error                        t-stat\n",
      "------------------------------------------------------------------------------------------------------------------------\n",
      "omega                                                0.0                           0.0                        15.721\n",
      "alpha                                                0.1                          0.13                         0.769\n",
      "beta                                                 0.8                         0.008                         97.69\n",
      "========================================================================================================================\n",
      "Covariance estimator: robust\n",
      "Warning! Inequality constraints incompatible\n"
     ]
    },
    {
     "name": "stderr",
     "output_type": "stream",
     "text": [
      "C:\\Users\\dasha\\anaconda3\\lib\\site-packages\\statsmodels\\base\\model.py:547: HessianInversionWarning: Inverting hessian failed, no bse or cov_params available\n",
      "  warnings.warn('Inverting hessian failed, no bse or cov_params '\n",
      "C:\\Users\\dasha\\anaconda3\\lib\\site-packages\\statsmodels\\base\\model.py:547: HessianInversionWarning: Inverting hessian failed, no bse or cov_params available\n",
      "  warnings.warn('Inverting hessian failed, no bse or cov_params '\n"
     ]
    },
    {
     "name": "stdout",
     "output_type": "stream",
     "text": [
      "                                             ARMA-GARCH estimation results                                              \n",
      "========================================================================================================================\n",
      "Dep Variable:                                   d_l_close    R-squared:                                           0.01\n",
      "Mean Model:                                          ARMA    Adj. R-squared:                                       0.0\n",
      "Vol Model:                                          GARCH    Log Likelihood:                                   3523.63\n",
      "Distribution:                                    Gaussian    AIC:                                             -7031.26\n",
      "Method:                                                ML    BIC:                                              -6995.2\n",
      "                                                             Num obs:                                              670\n",
      "Date:                                    Sat, Oct 08 2022    Df Residuals:                                         663\n",
      "Time:                                            19:44:59    Df Model:                                               7\n",
      "                                                                                                                        \n",
      "                                                       Mean Model                                                       \n",
      "========================================================================================================================\n",
      "                                                Estimate                    Std. Error                        t-stat\n",
      "------------------------------------------------------------------------------------------------------------------------\n",
      "Constant                                            -0.0                           0.0                        -1.268\n",
      "AR[1]                                             -0.043                         0.046                         -0.94\n",
      "AR[2]                                               0.25                         0.228                         1.094\n",
      "MA[3]                                             -0.023                         0.051                        -0.443\n",
      "MA[4]                                             -0.347                          0.27                        -1.287\n",
      "                                                                                                                        \n",
      "                                                    Volatility Model                                                    \n",
      "========================================================================================================================\n",
      "                                                Estimate                    Std. Error                        t-stat\n",
      "------------------------------------------------------------------------------------------------------------------------\n",
      "omega                                                0.0                           0.0                        12.043\n",
      "alpha                                                0.1                         0.227                         0.441\n",
      "beta                                                 0.8                         0.009                        93.578\n",
      "========================================================================================================================\n",
      "Covariance estimator: robust\n",
      "Warning! Inequality constraints incompatible\n"
     ]
    },
    {
     "name": "stderr",
     "output_type": "stream",
     "text": [
      "C:\\Users\\dasha\\anaconda3\\lib\\site-packages\\statsmodels\\base\\model.py:547: HessianInversionWarning: Inverting hessian failed, no bse or cov_params available\n",
      "  warnings.warn('Inverting hessian failed, no bse or cov_params '\n",
      "C:\\Users\\dasha\\anaconda3\\lib\\site-packages\\statsmodels\\base\\model.py:547: HessianInversionWarning: Inverting hessian failed, no bse or cov_params available\n",
      "  warnings.warn('Inverting hessian failed, no bse or cov_params '\n"
     ]
    },
    {
     "name": "stdout",
     "output_type": "stream",
     "text": [
      "                                             ARMA-GARCH estimation results                                              \n",
      "========================================================================================================================\n",
      "Dep Variable:                                   d_l_close    R-squared:                                           0.01\n",
      "Mean Model:                                          ARMA    Adj. R-squared:                                      -0.0\n",
      "Vol Model:                                          GARCH    Log Likelihood:                                   3528.75\n",
      "Distribution:                                    Gaussian    AIC:                                             -7041.51\n",
      "Method:                                                ML    BIC:                                             -7005.44\n",
      "                                                             Num obs:                                              671\n",
      "Date:                                    Sat, Oct 08 2022    Df Residuals:                                         664\n",
      "Time:                                            19:45:00    Df Model:                                               7\n",
      "                                                                                                                        \n",
      "                                                       Mean Model                                                       \n",
      "========================================================================================================================\n",
      "                                                Estimate                    Std. Error                        t-stat\n",
      "------------------------------------------------------------------------------------------------------------------------\n",
      "Constant                                            -0.0                           0.0                         -1.04\n",
      "AR[1]                                             -0.034                         0.077                        -0.441\n",
      "AR[2]                                             -0.027                         0.106                        -0.253\n",
      "MA[3]                                             -0.034                          0.07                        -0.482\n",
      "MA[4]                                             -0.027                         0.158                         -0.17\n",
      "                                                                                                                        \n",
      "                                                    Volatility Model                                                    \n",
      "========================================================================================================================\n",
      "                                                Estimate                    Std. Error                        t-stat\n",
      "------------------------------------------------------------------------------------------------------------------------\n",
      "omega                                                0.0                           0.0                        13.375\n",
      "alpha                                                0.1                         0.197                         0.509\n",
      "beta                                                 0.8                         0.008                        94.208\n",
      "========================================================================================================================\n",
      "Covariance estimator: robust\n",
      "Warning! Inequality constraints incompatible\n"
     ]
    },
    {
     "name": "stderr",
     "output_type": "stream",
     "text": [
      "C:\\Users\\dasha\\anaconda3\\lib\\site-packages\\statsmodels\\tsa\\tsatools.py:701: RuntimeWarning: overflow encountered in exp\n",
      "  newparams = ((1-np.exp(-params))/(1+np.exp(-params))).copy()\n",
      "C:\\Users\\dasha\\anaconda3\\lib\\site-packages\\statsmodels\\tsa\\tsatools.py:701: RuntimeWarning: invalid value encountered in true_divide\n",
      "  newparams = ((1-np.exp(-params))/(1+np.exp(-params))).copy()\n",
      "C:\\Users\\dasha\\anaconda3\\lib\\site-packages\\statsmodels\\tsa\\tsatools.py:702: RuntimeWarning: overflow encountered in exp\n",
      "  tmp = ((1-np.exp(-params))/(1+np.exp(-params))).copy()\n",
      "C:\\Users\\dasha\\anaconda3\\lib\\site-packages\\statsmodels\\tsa\\tsatools.py:702: RuntimeWarning: invalid value encountered in true_divide\n",
      "  tmp = ((1-np.exp(-params))/(1+np.exp(-params))).copy()\n"
     ]
    },
    {
     "name": "stdout",
     "output_type": "stream",
     "text": [
      "                                             ARMA-GARCH estimation results                                              \n",
      "========================================================================================================================\n",
      "Dep Variable:                                   d_l_close    R-squared:                                           0.02\n",
      "Mean Model:                                          ARMA    Adj. R-squared:                                      0.01\n",
      "Vol Model:                                          GARCH    Log Likelihood:                                   3533.31\n",
      "Distribution:                                    Gaussian    AIC:                                             -7050.62\n",
      "Method:                                                ML    BIC:                                             -7014.53\n",
      "                                                             Num obs:                                              672\n",
      "Date:                                    Sat, Oct 08 2022    Df Residuals:                                         665\n",
      "Time:                                            19:45:02    Df Model:                                               7\n",
      "                                                                                                                        \n",
      "                                                       Mean Model                                                       \n",
      "========================================================================================================================\n",
      "                                                Estimate                    Std. Error                        t-stat\n",
      "------------------------------------------------------------------------------------------------------------------------\n",
      "Constant                                            -0.0                           0.0                        -1.515\n",
      "AR[1]                                             -0.068                         0.037                        -1.819\n",
      "AR[2]                                               0.42                         0.149                         2.822\n",
      "MA[3]                                              0.009                         0.014                         0.673\n",
      "MA[4]                                             -0.525                          0.13                        -4.052\n",
      "                                                                                                                        \n",
      "                                                    Volatility Model                                                    \n",
      "========================================================================================================================\n",
      "                                                Estimate                    Std. Error                        t-stat\n",
      "------------------------------------------------------------------------------------------------------------------------\n",
      "omega                                                0.0                           0.0                        14.685\n",
      "alpha                                                0.1                         0.166                         0.602\n",
      "beta                                                 0.8                         0.008                        96.096\n",
      "========================================================================================================================\n",
      "Covariance estimator: robust\n",
      "Warning! Inequality constraints incompatible\n",
      "                                             ARMA-GARCH estimation results                                              \n",
      "========================================================================================================================\n",
      "Dep Variable:                                   d_l_close    R-squared:                                           0.02\n",
      "Mean Model:                                          ARMA    Adj. R-squared:                                      0.01\n",
      "Vol Model:                                          GARCH    Log Likelihood:                                   3538.49\n",
      "Distribution:                                    Gaussian    AIC:                                             -7060.99\n",
      "Method:                                                ML    BIC:                                             -7024.89\n",
      "                                                             Num obs:                                              673\n",
      "Date:                                    Sat, Oct 08 2022    Df Residuals:                                         666\n",
      "Time:                                            19:45:04    Df Model:                                               7\n",
      "                                                                                                                        \n",
      "                                                       Mean Model                                                       \n",
      "========================================================================================================================\n",
      "                                                Estimate                    Std. Error                        t-stat\n",
      "------------------------------------------------------------------------------------------------------------------------\n",
      "Constant                                            -0.0                           0.0                        -0.493\n",
      "AR[1]                                             -0.072                          0.49                        -0.146\n",
      "AR[2]                                              0.425                         0.187                         2.277\n",
      "MA[3]                                              0.012                          0.45                         0.027\n",
      "MA[4]                                             -0.531                          0.14                        -3.786\n",
      "                                                                                                                        \n",
      "                                                    Volatility Model                                                    \n",
      "========================================================================================================================\n",
      "                                                Estimate                    Std. Error                        t-stat\n",
      "------------------------------------------------------------------------------------------------------------------------\n",
      "omega                                                0.0                           0.0                        16.255\n",
      "alpha                                                0.1                         0.139                         0.719\n",
      "beta                                                 0.8                         0.008                        96.749\n",
      "========================================================================================================================\n",
      "Covariance estimator: robust\n",
      "Warning! Inequality constraints incompatible\n",
      "                                             ARMA-GARCH estimation results                                              \n",
      "========================================================================================================================\n",
      "Dep Variable:                                   d_l_close    R-squared:                                           0.02\n",
      "Mean Model:                                          ARMA    Adj. R-squared:                                       0.0\n",
      "Vol Model:                                          GARCH    Log Likelihood:                                   3544.05\n",
      "Distribution:                                    Gaussian    AIC:                                             -7072.09\n",
      "Method:                                                ML    BIC:                                             -7035.99\n",
      "                                                             Num obs:                                              674\n",
      "Date:                                    Sat, Oct 08 2022    Df Residuals:                                         667\n",
      "Time:                                            19:45:06    Df Model:                                               7\n",
      "                                                                                                                        \n",
      "                                                       Mean Model                                                       \n",
      "========================================================================================================================\n",
      "                                                Estimate                    Std. Error                        t-stat\n",
      "------------------------------------------------------------------------------------------------------------------------\n",
      "Constant                                            -0.0                           0.0                        -1.558\n",
      "AR[1]                                             -0.017                         0.068                        -0.248\n",
      "AR[2]                                              0.417                         0.169                         2.473\n",
      "MA[3]                                             -0.039                          0.08                        -0.485\n",
      "MA[4]                                              -0.52                          0.15                        -3.478\n",
      "                                                                                                                        \n",
      "                                                    Volatility Model                                                    \n",
      "========================================================================================================================\n",
      "                                                Estimate                    Std. Error                        t-stat\n",
      "------------------------------------------------------------------------------------------------------------------------\n",
      "omega                                                0.0                           0.0                        15.688\n",
      "alpha                                                0.1                         0.146                         0.686\n",
      "beta                                                 0.8                         0.008                        96.637\n",
      "========================================================================================================================\n",
      "Covariance estimator: robust\n",
      "Warning! Inequality constraints incompatible\n"
     ]
    }
   ],
   "source": [
    "random.seed(42)\n",
    "j = 0\n",
    "ag_forecasts = []\n",
    "for i in range(665, 675):\n",
    "    ag_model = ag.empModel(df_short['d_l_close'][0:i].to_frame(), meanMdl, volMdl, distMdl)\n",
    "    ag_model.fit()\n",
    "    ag_forecasts.append(float(ag_model.predict(1)[0]))"
   ]
  },
  {
   "cell_type": "code",
   "execution_count": 23,
   "id": "24dd3c8e",
   "metadata": {},
   "outputs": [],
   "source": [
    "prev = (df_short['l_close'][666:676]).to_list()"
   ]
  },
  {
   "cell_type": "code",
   "execution_count": 24,
   "id": "b58f8d69",
   "metadata": {},
   "outputs": [],
   "source": [
    "ag_forecasts_full = []\n",
    "for i,j in zip(prev, ag_forecasts):\n",
    "    pred = i + j \n",
    "    ag_forecasts_full.append(pred)"
   ]
  },
  {
   "cell_type": "code",
   "execution_count": 25,
   "id": "2ed23b19",
   "metadata": {},
   "outputs": [],
   "source": [
    "fact_vs_fcst_ag = pd.DataFrame(columns=(['fct','fcst']))"
   ]
  },
  {
   "cell_type": "code",
   "execution_count": 26,
   "id": "e3cb3753",
   "metadata": {},
   "outputs": [],
   "source": [
    "fact_vs_fcst_ag['fct'] = np.exp(fact)"
   ]
  },
  {
   "cell_type": "code",
   "execution_count": 27,
   "id": "d0089a5e",
   "metadata": {},
   "outputs": [],
   "source": [
    "fact_vs_fcst_ag['fcst'] = np.exp(ag_forecasts_full)"
   ]
  },
  {
   "cell_type": "code",
   "execution_count": 28,
   "id": "d8d6d40c",
   "metadata": {},
   "outputs": [
    {
     "data": {
      "text/html": [
       "<div>\n",
       "<style scoped>\n",
       "    .dataframe tbody tr th:only-of-type {\n",
       "        vertical-align: middle;\n",
       "    }\n",
       "\n",
       "    .dataframe tbody tr th {\n",
       "        vertical-align: top;\n",
       "    }\n",
       "\n",
       "    .dataframe thead th {\n",
       "        text-align: right;\n",
       "    }\n",
       "</style>\n",
       "<table border=\"1\" class=\"dataframe\">\n",
       "  <thead>\n",
       "    <tr style=\"text-align: right;\">\n",
       "      <th></th>\n",
       "      <th>fct</th>\n",
       "      <th>fcst</th>\n",
       "    </tr>\n",
       "  </thead>\n",
       "  <tbody>\n",
       "    <tr>\n",
       "      <th>0</th>\n",
       "      <td>132.9900</td>\n",
       "      <td>132.987358</td>\n",
       "    </tr>\n",
       "    <tr>\n",
       "      <th>1</th>\n",
       "      <td>133.1750</td>\n",
       "      <td>133.158736</td>\n",
       "    </tr>\n",
       "    <tr>\n",
       "      <th>2</th>\n",
       "      <td>133.1800</td>\n",
       "      <td>133.156298</td>\n",
       "    </tr>\n",
       "    <tr>\n",
       "      <th>3</th>\n",
       "      <td>132.5900</td>\n",
       "      <td>132.580264</td>\n",
       "    </tr>\n",
       "    <tr>\n",
       "      <th>4</th>\n",
       "      <td>132.6400</td>\n",
       "      <td>132.632315</td>\n",
       "    </tr>\n",
       "    <tr>\n",
       "      <th>5</th>\n",
       "      <td>132.7693</td>\n",
       "      <td>132.800303</td>\n",
       "    </tr>\n",
       "    <tr>\n",
       "      <th>6</th>\n",
       "      <td>132.8408</td>\n",
       "      <td>132.867157</td>\n",
       "    </tr>\n",
       "    <tr>\n",
       "      <th>7</th>\n",
       "      <td>132.8600</td>\n",
       "      <td>132.857951</td>\n",
       "    </tr>\n",
       "    <tr>\n",
       "      <th>8</th>\n",
       "      <td>132.5800</td>\n",
       "      <td>132.575772</td>\n",
       "    </tr>\n",
       "    <tr>\n",
       "      <th>9</th>\n",
       "      <td>132.8000</td>\n",
       "      <td>132.787597</td>\n",
       "    </tr>\n",
       "  </tbody>\n",
       "</table>\n",
       "</div>"
      ],
      "text/plain": [
       "        fct        fcst\n",
       "0  132.9900  132.987358\n",
       "1  133.1750  133.158736\n",
       "2  133.1800  133.156298\n",
       "3  132.5900  132.580264\n",
       "4  132.6400  132.632315\n",
       "5  132.7693  132.800303\n",
       "6  132.8408  132.867157\n",
       "7  132.8600  132.857951\n",
       "8  132.5800  132.575772\n",
       "9  132.8000  132.787597"
      ]
     },
     "execution_count": 28,
     "metadata": {},
     "output_type": "execute_result"
    }
   ],
   "source": [
    "fact_vs_fcst_ag"
   ]
  },
  {
   "attachments": {
    "image.png": {
     "image/png": "[encoded data removed]"
    }
   },
   "cell_type": "markdown",
   "id": "908f5aa0",
   "metadata": {},
   "source": [
    "Для этих же значений в R на полной выборке с использование ugarchspec 'sGARCH' получено:\n",
    "![image.png](attachment:image.png)"
   ]
  },
  {
   "cell_type": "code",
   "execution_count": 29,
   "id": "5a34baad",
   "metadata": {},
   "outputs": [
    {
     "data": {
      "text/plain": [
       "0.0001023956683987325"
      ]
     },
     "execution_count": 29,
     "metadata": {},
     "output_type": "execute_result"
    }
   ],
   "source": [
    "mean_absolute_percentage_error(np.exp(fact), np.exp(ag_forecasts_full))"
   ]
  },
  {
   "cell_type": "code",
   "execution_count": 30,
   "id": "e252a213",
   "metadata": {},
   "outputs": [
    {
     "data": {
      "text/plain": [
       "0.9934038581732223"
      ]
     },
     "execution_count": 30,
     "metadata": {},
     "output_type": "execute_result"
    }
   ],
   "source": [
    "r2_score(np.exp(fact), np.exp(ag_forecasts_full))"
   ]
  },
  {
   "cell_type": "code",
   "execution_count": 31,
   "id": "fd609fa7",
   "metadata": {},
   "outputs": [
    {
     "data": {
      "text/plain": [
       "SpearmanrResult(correlation=0.9636363636363635, pvalue=7.320974809529922e-06)"
      ]
     },
     "execution_count": 31,
     "metadata": {},
     "output_type": "execute_result"
    }
   ],
   "source": [
    "stats.spearmanr(np.exp(fact), np.exp(ag_forecasts_full))"
   ]
  },
  {
   "cell_type": "markdown",
   "id": "ff69f11a",
   "metadata": {},
   "source": [
    "# State Space Model"
   ]
  },
  {
   "cell_type": "markdown",
   "id": "49df385e",
   "metadata": {},
   "source": [
    "Написана в R, но я не успела разобраться во внутренней архитектуре данных там, поэтому она с ошибками, и не успела найти как переписать ее на питон, смогу сделать позже."
   ]
  },
  {
   "cell_type": "code",
   "execution_count": null,
   "id": "d6c9f9d2",
   "metadata": {},
   "outputs": [],
   "source": []
  }
 ],
 "metadata": {
  "kernelspec": {
   "display_name": "Python 3 (ipykernel)",
   "language": "python",
   "name": "python3"
  },
  "language_info": {
   "codemirror_mode": {
    "name": "ipython",
    "version": 3
   },
   "file_extension": ".py",
   "mimetype": "text/x-python",
   "name": "python",
   "nbconvert_exporter": "python",
   "pygments_lexer": "ipython3",
   "version": "3.9.7"
  }
 },
 "nbformat": 4,
 "nbformat_minor": 5
}
